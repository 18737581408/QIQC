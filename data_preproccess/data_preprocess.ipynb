{
 "cells": [
  {
   "cell_type": "code",
   "execution_count": 9,
   "metadata": {},
   "outputs": [],
   "source": [
    "import sys\n",
    "sys.path.append('../')\n",
    "import pandas as pd\n",
    "from utils import TextUtil\n",
    "import nltk\n",
    "from nltk.stem import WordNetLemmatizer\n",
    "from nltk.corpus import wordnet\n",
    "from nltk import word_tokenize, pos_tag\n",
    "from nltk.stem import WordNetLemmatizer\n",
    "import pickle"
   ]
  },
  {
   "cell_type": "code",
   "execution_count": 2,
   "metadata": {},
   "outputs": [],
   "source": [
    "# df = pd.read_excel('../data/train_sub.xlsx')\n",
    "df = pd.read_csv('../data/train.csv')"
   ]
  },
  {
   "cell_type": "code",
   "execution_count": 3,
   "metadata": {},
   "outputs": [],
   "source": [
    "text_util = TextUtil()"
   ]
  },
  {
   "cell_type": "code",
   "execution_count": 4,
   "metadata": {},
   "outputs": [],
   "source": [
    "# text normalization\n",
    "question_text_np_array = df.question_text.values\n",
    "for idx, row in enumerate(question_text_np_array):\n",
    "    question_text_np_array[idx] = text_util.text_normalization(row)"
   ]
  },
  {
   "cell_type": "code",
   "execution_count": 5,
   "metadata": {},
   "outputs": [],
   "source": [
    "# stem words 词性还原\n",
    "stem_words = []\n",
    "for row in question_text_np_array:\n",
    "    words = text_util.lemmatize_sentence(row)\n",
    "    stem_words.append(words)"
   ]
  },
  {
   "cell_type": "code",
   "execution_count": 7,
   "metadata": {},
   "outputs": [],
   "source": [
    "# 去除标点与停用词\n",
    "filter_words = []\n",
    "for words in stem_words:\n",
    "    words = text_util.filter_punctuation(words)\n",
    "    words = text_util.filter_stop_word(words)\n",
    "    filter_words.append(words)"
   ]
  },
  {
   "cell_type": "markdown",
   "metadata": {},
   "source": [
    "预处理完的数据, 为如下的格式\n",
    "```\n",
    "[['I', 'pandas'], ['How', 'Quebec', 'nationalist', 'see', 'province', 'nation']]\n",
    "```"
   ]
  },
  {
   "cell_type": "code",
   "execution_count": 11,
   "metadata": {},
   "outputs": [],
   "source": [
    "# with open('../data/words.pkl', mode='wb') as f:\n",
    "#     pickle.dump(file=f, obj=filter_words)"
   ]
  }
 ],
 "metadata": {
  "kernelspec": {
   "display_name": "Python 3",
   "language": "python",
   "name": "python3"
  },
  "language_info": {
   "codemirror_mode": {
    "name": "ipython",
    "version": 3
   },
   "file_extension": ".py",
   "mimetype": "text/x-python",
   "name": "python",
   "nbconvert_exporter": "python",
   "pygments_lexer": "ipython3",
   "version": "3.6.5"
  }
 },
 "nbformat": 4,
 "nbformat_minor": 2
}
